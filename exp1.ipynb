{
 "cells": [
  {
   "cell_type": "markdown",
   "id": "b8f6f606-58b0-4228-aaa7-32a64c77cb55",
   "metadata": {},
   "source": [
    "# Experiment 1 (with upgraded GPU)\n",
    "April 22, 2023"
   ]
  },
  {
   "cell_type": "markdown",
   "id": "388c017d-ff5c-4cfb-9317-aa421670135d",
   "metadata": {},
   "source": [
    "## Setup"
   ]
  },
  {
   "cell_type": "code",
   "execution_count": 7,
   "id": "808a36bf-be7a-4b3f-9f4d-ca1f3d97c6f8",
   "metadata": {
    "execution": {
     "iopub.execute_input": "2023-04-22T07:32:04.695448Z",
     "iopub.status.busy": "2023-04-22T07:32:04.694890Z",
     "iopub.status.idle": "2023-04-22T07:32:04.698077Z",
     "shell.execute_reply": "2023-04-22T07:32:04.697607Z",
     "shell.execute_reply.started": "2023-04-22T07:32:04.695424Z"
    }
   },
   "outputs": [],
   "source": [
    "import os"
   ]
  },
  {
   "cell_type": "code",
   "execution_count": 1,
   "id": "33273928-edf1-4fa4-a99e-3248bd82855e",
   "metadata": {
    "execution": {
     "iopub.execute_input": "2023-04-22T07:30:20.196004Z",
     "iopub.status.busy": "2023-04-22T07:30:20.195552Z",
     "iopub.status.idle": "2023-04-22T07:30:24.648253Z",
     "shell.execute_reply": "2023-04-22T07:30:24.647139Z",
     "shell.execute_reply.started": "2023-04-22T07:30:20.195963Z"
    }
   },
   "outputs": [
    {
     "name": "stderr",
     "output_type": "stream",
     "text": [
      "Ultralytics YOLOv8.0.84 🚀 Python-3.9.16 torch-1.12.1+cu116 CUDA:0 (NVIDIA RTX A4000, 16117MiB)\n",
      "Setup complete ✅ (8 CPUs, 44.1 GB RAM, 126.9/246.0 GB disk)\n"
     ]
    }
   ],
   "source": [
    "%pip install ultralytics\n",
    "import ultralytics\n",
    "ultralytics.checks()"
   ]
  },
  {
   "cell_type": "code",
   "execution_count": 2,
   "id": "fd35f99b-46a9-4d8d-92c0-5a24d3019b35",
   "metadata": {
    "execution": {
     "iopub.execute_input": "2023-04-22T07:30:24.651304Z",
     "iopub.status.busy": "2023-04-22T07:30:24.650299Z",
     "iopub.status.idle": "2023-04-22T07:30:27.625322Z",
     "shell.execute_reply": "2023-04-22T07:30:27.624805Z",
     "shell.execute_reply.started": "2023-04-22T07:30:24.651256Z"
    }
   },
   "outputs": [
    {
     "name": "stdout",
     "output_type": "stream",
     "text": [
      "Requirement already satisfied: gdown in /usr/local/lib/python3.9/dist-packages (4.5.1)\n",
      "Requirement already satisfied: beautifulsoup4 in /usr/local/lib/python3.9/dist-packages (from gdown) (4.11.1)\n",
      "Requirement already satisfied: filelock in /usr/local/lib/python3.9/dist-packages (from gdown) (3.9.0)\n",
      "Requirement already satisfied: six in /usr/lib/python3/dist-packages (from gdown) (1.14.0)\n",
      "Requirement already satisfied: tqdm in /usr/local/lib/python3.9/dist-packages (from gdown) (4.64.1)\n",
      "Requirement already satisfied: requests[socks] in /usr/local/lib/python3.9/dist-packages (from gdown) (2.28.2)\n",
      "Requirement already satisfied: soupsieve>1.2 in /usr/local/lib/python3.9/dist-packages (from beautifulsoup4->gdown) (2.3.2.post1)\n",
      "Requirement already satisfied: certifi>=2017.4.17 in /usr/lib/python3/dist-packages (from requests[socks]->gdown) (2019.11.28)\n",
      "Requirement already satisfied: idna<4,>=2.5 in /usr/lib/python3/dist-packages (from requests[socks]->gdown) (2.8)\n",
      "Requirement already satisfied: urllib3<1.27,>=1.21.1 in /usr/local/lib/python3.9/dist-packages (from requests[socks]->gdown) (1.26.14)\n",
      "Requirement already satisfied: charset-normalizer<4,>=2 in /usr/local/lib/python3.9/dist-packages (from requests[socks]->gdown) (2.1.1)\n",
      "Requirement already satisfied: PySocks!=1.5.7,>=1.5.6 in /usr/local/lib/python3.9/dist-packages (from requests[socks]->gdown) (1.7.1)\n",
      "\u001b[33mWARNING: Running pip as the 'root' user can result in broken permissions and conflicting behaviour with the system package manager. It is recommended to use a virtual environment instead: https://pip.pypa.io/warnings/venv\u001b[0m\u001b[33m\n",
      "\u001b[0mNote: you may need to restart the kernel to use updated packages.\n"
     ]
    }
   ],
   "source": [
    "%pip install gdown"
   ]
  },
  {
   "cell_type": "code",
   "execution_count": 3,
   "id": "6cca99d8-624d-461c-81c6-771184626307",
   "metadata": {
    "execution": {
     "iopub.execute_input": "2023-04-22T07:30:27.626383Z",
     "iopub.status.busy": "2023-04-22T07:30:27.626174Z",
     "iopub.status.idle": "2023-04-22T07:30:38.224626Z",
     "shell.execute_reply": "2023-04-22T07:30:38.223784Z",
     "shell.execute_reply.started": "2023-04-22T07:30:27.626362Z"
    }
   },
   "outputs": [
    {
     "name": "stdout",
     "output_type": "stream",
     "text": [
      "Access denied with the following error:\n",
      "\n",
      " \tCannot retrieve the public link of the file. You may need to change\n",
      "\tthe permission to 'Anyone with the link', or have had many accesses. \n",
      "\n",
      "You may still be able to access the file from the browser:\n",
      "\n",
      "\t https://drive.google.com/uc?id=1e8R9r8V2RzqraaFj-h12zu9wfsjSqovS&confirm=t \n",
      "\n"
     ]
    }
   ],
   "source": [
    "!gdown \"1e8R9r8V2RzqraaFj-h12zu9wfsjSqovS&confirm=t\""
   ]
  },
  {
   "cell_type": "code",
   "execution_count": 4,
   "id": "a2b0ebf1-7392-4bdb-9497-de43e2e0ba8b",
   "metadata": {
    "execution": {
     "iopub.execute_input": "2023-04-22T07:30:38.228991Z",
     "iopub.status.busy": "2023-04-22T07:30:38.228673Z",
     "iopub.status.idle": "2023-04-22T07:31:20.933379Z",
     "shell.execute_reply": "2023-04-22T07:31:20.932610Z",
     "shell.execute_reply.started": "2023-04-22T07:30:38.228962Z"
    }
   },
   "outputs": [
    {
     "name": "stdout",
     "output_type": "stream",
     "text": [
      "Archive:  mask_dataset.zip\n",
      "replace dataset/data.yaml? [y]es, [n]o, [A]ll, [N]one, [r]ename: ^C\n"
     ]
    }
   ],
   "source": [
    "!unzip mask_dataset.zip"
   ]
  },
  {
   "cell_type": "code",
   "execution_count": 6,
   "id": "c102467b-01a0-4923-9416-3ad6f98fa59a",
   "metadata": {
    "execution": {
     "iopub.execute_input": "2023-04-22T07:31:46.429681Z",
     "iopub.status.busy": "2023-04-22T07:31:46.429060Z",
     "iopub.status.idle": "2023-04-22T07:31:46.433320Z",
     "shell.execute_reply": "2023-04-22T07:31:46.432636Z",
     "shell.execute_reply.started": "2023-04-22T07:31:46.429677Z"
    }
   },
   "outputs": [],
   "source": [
    "dataset_path = \"/notebooks/experiment1/dataset\"\n",
    "dirs = ['train', 'test', 'valid']\n",
    "subdirs = ['images', 'labels']"
   ]
  },
  {
   "cell_type": "code",
   "execution_count": 8,
   "id": "d0e6c2f7-6c9c-4963-b275-43f503fa6e0c",
   "metadata": {
    "execution": {
     "iopub.execute_input": "2023-04-22T07:32:08.061427Z",
     "iopub.status.busy": "2023-04-22T07:32:08.060804Z",
     "iopub.status.idle": "2023-04-22T07:32:08.104488Z",
     "shell.execute_reply": "2023-04-22T07:32:08.103835Z",
     "shell.execute_reply.started": "2023-04-22T07:32:08.061397Z"
    }
   },
   "outputs": [
    {
     "name": "stdout",
     "output_type": "stream",
     "text": [
      "train/images file count: 25320\n",
      "train/labels file count: 25320\n",
      "test/images file count: 3165\n",
      "test/labels file count: 3165\n",
      "valid/images file count: 3165\n",
      "valid/labels file count: 3165\n"
     ]
    }
   ],
   "source": [
    "for d in dirs:\n",
    "    for s in subdirs:\n",
    "        subdir_path = os.path.join(dataset_path, d, s)\n",
    "        file_count = len(os.listdir(subdir_path))\n",
    "        print(f'{d}/{s} file count: {file_count}')"
   ]
  },
  {
   "cell_type": "markdown",
   "id": "52ccbd97-fe48-498f-9245-a7e519c838eb",
   "metadata": {},
   "source": [
    "## Training"
   ]
  },
  {
   "cell_type": "code",
   "execution_count": 11,
   "id": "2fb12d9c-7daa-42b3-9bfb-a51c3d731254",
   "metadata": {
    "execution": {
     "iopub.execute_input": "2023-04-22T07:33:00.557485Z",
     "iopub.status.busy": "2023-04-22T07:33:00.557148Z",
     "iopub.status.idle": "2023-04-22T07:33:01.964923Z",
     "shell.execute_reply": "2023-04-22T07:33:01.964131Z",
     "shell.execute_reply.started": "2023-04-22T07:33:00.557465Z"
    }
   },
   "outputs": [
    {
     "name": "stdout",
     "output_type": "stream",
     "text": [
      "W&B disabled.\n"
     ]
    }
   ],
   "source": [
    "!wandb disabled"
   ]
  },
  {
   "cell_type": "code",
   "execution_count": 12,
   "id": "e718c869-00bb-4eb9-b487-05a8cb874853",
   "metadata": {
    "execution": {
     "iopub.execute_input": "2023-04-22T07:33:04.501712Z",
     "iopub.status.busy": "2023-04-22T07:33:04.501435Z",
     "iopub.status.idle": "2023-04-22T11:28:01.686168Z",
     "shell.execute_reply": "2023-04-22T11:28:01.685412Z",
     "shell.execute_reply.started": "2023-04-22T07:33:04.501690Z"
    }
   },
   "outputs": [
    {
     "name": "stdout",
     "output_type": "stream",
     "text": [
      "Ultralytics YOLOv8.0.84 🚀 Python-3.9.16 torch-1.12.1+cu116 CUDA:0 (NVIDIA RTX A4000, 16117MiB)\n",
      "\u001b[34m\u001b[1myolo/engine/trainer: \u001b[0mtask=detect, mode=train, model=yolov8s.pt, data=/notebooks/experiment1/dataset/data.yaml, epochs=60, patience=50, batch=16, imgsz=640, save=True, save_period=-1, cache=False, device=None, workers=8, project=None, name=None, exist_ok=False, pretrained=False, optimizer=SGD, verbose=True, seed=0, deterministic=True, single_cls=False, image_weights=False, rect=False, cos_lr=False, close_mosaic=0, resume=False, amp=True, overlap_mask=True, mask_ratio=4, dropout=0.0, val=True, split=val, save_json=False, save_hybrid=False, conf=None, iou=0.7, max_det=300, half=False, dnn=False, plots=True, source=None, show=False, save_txt=False, save_conf=False, save_crop=False, show_labels=True, show_conf=True, vid_stride=1, line_thickness=3, visualize=False, augment=False, agnostic_nms=False, classes=None, retina_masks=False, boxes=True, format=torchscript, keras=False, optimize=False, int8=False, dynamic=False, simplify=False, opset=None, workspace=4, nms=False, lr0=0.01, lrf=0.01, momentum=0.937, weight_decay=0.0005, warmup_epochs=3.0, warmup_momentum=0.8, warmup_bias_lr=0.1, box=7.5, cls=0.5, dfl=1.5, pose=12.0, kobj=1.0, label_smoothing=0.0, nbs=64, hsv_h=0.015, hsv_s=0.7, hsv_v=0.4, degrees=0.0, translate=0.1, scale=0.5, shear=0.0, perspective=0.0, flipud=0.0, fliplr=0.5, mosaic=1.0, mixup=0.0, copy_paste=0.0, cfg=None, v5loader=False, tracker=botsort.yaml, save_dir=runs/detect/train16\n",
      "Overriding model.yaml nc=80 with nc=3\n",
      "\n",
      "                   from  n    params  module                                       arguments                     \n",
      "  0                  -1  1       928  ultralytics.nn.modules.Conv                  [3, 32, 3, 2]                 \n",
      "  1                  -1  1     18560  ultralytics.nn.modules.Conv                  [32, 64, 3, 2]                \n",
      "  2                  -1  1     29056  ultralytics.nn.modules.C2f                   [64, 64, 1, True]             \n",
      "  3                  -1  1     73984  ultralytics.nn.modules.Conv                  [64, 128, 3, 2]               \n",
      "  4                  -1  2    197632  ultralytics.nn.modules.C2f                   [128, 128, 2, True]           \n",
      "  5                  -1  1    295424  ultralytics.nn.modules.Conv                  [128, 256, 3, 2]              \n",
      "  6                  -1  2    788480  ultralytics.nn.modules.C2f                   [256, 256, 2, True]           \n",
      "  7                  -1  1   1180672  ultralytics.nn.modules.Conv                  [256, 512, 3, 2]              \n",
      "  8                  -1  1   1838080  ultralytics.nn.modules.C2f                   [512, 512, 1, True]           \n",
      "  9                  -1  1    656896  ultralytics.nn.modules.SPPF                  [512, 512, 5]                 \n",
      " 10                  -1  1         0  torch.nn.modules.upsampling.Upsample         [None, 2, 'nearest']          \n",
      " 11             [-1, 6]  1         0  ultralytics.nn.modules.Concat                [1]                           \n",
      " 12                  -1  1    591360  ultralytics.nn.modules.C2f                   [768, 256, 1]                 \n",
      " 13                  -1  1         0  torch.nn.modules.upsampling.Upsample         [None, 2, 'nearest']          \n",
      " 14             [-1, 4]  1         0  ultralytics.nn.modules.Concat                [1]                           \n",
      " 15                  -1  1    148224  ultralytics.nn.modules.C2f                   [384, 128, 1]                 \n",
      " 16                  -1  1    147712  ultralytics.nn.modules.Conv                  [128, 128, 3, 2]              \n",
      " 17            [-1, 12]  1         0  ultralytics.nn.modules.Concat                [1]                           \n",
      " 18                  -1  1    493056  ultralytics.nn.modules.C2f                   [384, 256, 1]                 \n",
      " 19                  -1  1    590336  ultralytics.nn.modules.Conv                  [256, 256, 3, 2]              \n",
      " 20             [-1, 9]  1         0  ultralytics.nn.modules.Concat                [1]                           \n",
      " 21                  -1  1   1969152  ultralytics.nn.modules.C2f                   [768, 512, 1]                 \n",
      " 22        [15, 18, 21]  1   2117209  ultralytics.nn.modules.Detect                [3, [128, 256, 512]]          \n",
      "Model summary: 225 layers, 11136761 parameters, 11136745 gradients, 28.7 GFLOPs\n",
      "\n",
      "Transferred 349/355 items from pretrained weights\n",
      "\u001b[34m\u001b[1mTensorBoard: \u001b[0mStart with 'tensorboard --logdir runs/detect/train16', view at http://localhost:6006/\n",
      "\u001b[34m\u001b[1mAMP: \u001b[0mrunning Automatic Mixed Precision (AMP) checks with YOLOv8n...\n",
      "Downloading https://github.com/ultralytics/assets/releases/download/v0.0.0/yolov8n.pt to yolov8n.pt...\n",
      "100%|███████████████████████████████████████| 6.23M/6.23M [00:00<00:00, 308MB/s]\n",
      "\u001b[34m\u001b[1mAMP: \u001b[0mchecks passed ✅\n",
      "\u001b[34m\u001b[1moptimizer:\u001b[0m SGD(lr=0.01) with parameter groups 57 weight(decay=0.0), 64 weight(decay=0.0005), 63 bias\n",
      "\u001b[34m\u001b[1mtrain: \u001b[0mScanning /notebooks/experiment1/dataset/train/labels... 25320 images, 63 \u001b[0m\n",
      "\u001b[34m\u001b[1mtrain: \u001b[0mNew cache created: /notebooks/experiment1/dataset/train/labels.cache\n",
      "\u001b[34m\u001b[1mval: \u001b[0mScanning /notebooks/experiment1/dataset/valid/labels... 3165 images, 12 bac\u001b[0m\n",
      "\u001b[34m\u001b[1mval: \u001b[0mWARNING ⚠️ /notebooks/experiment1/dataset/valid/images/1940j_jpg.rf.1ddfe910dc43946930b6b872bbe2f457.jpg: 1 duplicate labels removed\n",
      "\u001b[34m\u001b[1mval: \u001b[0mNew cache created: /notebooks/experiment1/dataset/valid/labels.cache\n",
      "Plotting labels to runs/detect/train16/labels.jpg... \n",
      "\n",
      "Image sizes 640 train, 640 val\n",
      "Using 8 dataloader workers\n",
      "Logging results to \u001b[1mruns/detect/train16\u001b[0m\n",
      "Starting training for 60 epochs...\n",
      "\n",
      "      Epoch    GPU_mem   box_loss   cls_loss   dfl_loss  Instances       Size\n",
      "       1/60      4.51G      1.393      1.497      1.556         20        640: 1\n",
      "                 Class     Images  Instances      Box(P          R      mAP50  m\n",
      "                   all       3165       5245      0.779      0.716      0.785      0.473\n",
      "\n",
      "      Epoch    GPU_mem   box_loss   cls_loss   dfl_loss  Instances       Size\n",
      "       2/60      4.96G      1.261      1.043      1.383         37        640: 1\n",
      "                 Class     Images  Instances      Box(P          R      mAP50  m\n",
      "                   all       3165       5245      0.837      0.728      0.811      0.489\n",
      "\n",
      "      Epoch    GPU_mem   box_loss   cls_loss   dfl_loss  Instances       Size\n",
      "       3/60      4.54G      1.307      1.086      1.409         18        640: 1\n",
      "                 Class     Images  Instances      Box(P          R      mAP50  m\n",
      "                   all       3165       5245      0.827      0.706      0.807      0.485\n",
      "\n",
      "      Epoch    GPU_mem   box_loss   cls_loss   dfl_loss  Instances       Size\n",
      "       4/60      4.78G      1.317      1.092      1.419         27        640: 1\n",
      "                 Class     Images  Instances      Box(P          R      mAP50  m\n",
      "                   all       3165       5245      0.821       0.75      0.822       0.52\n",
      "\n",
      "      Epoch    GPU_mem   box_loss   cls_loss   dfl_loss  Instances       Size\n",
      "       5/60      4.79G      1.252          1      1.378         17        640: 1\n",
      "                 Class     Images  Instances      Box(P          R      mAP50  m\n",
      "                   all       3165       5245      0.839      0.791      0.853      0.555\n",
      "\n",
      "      Epoch    GPU_mem   box_loss   cls_loss   dfl_loss  Instances       Size\n",
      "       6/60      4.53G      1.195     0.9331      1.339         20        640: 1\n",
      "                 Class     Images  Instances      Box(P          R      mAP50  m\n",
      "                   all       3165       5245      0.847      0.785      0.854      0.566\n",
      "\n",
      "      Epoch    GPU_mem   box_loss   cls_loss   dfl_loss  Instances       Size\n",
      "       7/60       4.8G      1.169     0.8911      1.314         23        640: 1\n",
      "                 Class     Images  Instances      Box(P          R      mAP50  m\n",
      "                   all       3165       5245      0.855        0.8      0.862      0.576\n",
      "\n",
      "      Epoch    GPU_mem   box_loss   cls_loss   dfl_loss  Instances       Size\n",
      "       8/60       4.4G      1.146      0.861      1.301         22        640: 1\n",
      "                 Class     Images  Instances      Box(P          R      mAP50  m\n",
      "                   all       3165       5245      0.861      0.812      0.879      0.602\n",
      "\n",
      "      Epoch    GPU_mem   box_loss   cls_loss   dfl_loss  Instances       Size\n",
      "       9/60      4.63G      1.116     0.8264      1.283         26        640: 1\n",
      "                 Class     Images  Instances      Box(P          R      mAP50  m\n",
      "                   all       3165       5245       0.87      0.826      0.886      0.608\n",
      "\n",
      "      Epoch    GPU_mem   box_loss   cls_loss   dfl_loss  Instances       Size\n",
      "      10/60      4.37G        1.1     0.7938      1.269         21        640: 1\n",
      "                 Class     Images  Instances      Box(P          R      mAP50  m\n",
      "                   all       3165       5245      0.872      0.834      0.895      0.621\n",
      "\n",
      "      Epoch    GPU_mem   box_loss   cls_loss   dfl_loss  Instances       Size\n",
      "      11/60      4.76G       1.08     0.7776      1.255         15        640: 1\n",
      "                 Class     Images  Instances      Box(P          R      mAP50  m\n",
      "                   all       3165       5245      0.892      0.822      0.894      0.632\n",
      "\n",
      "      Epoch    GPU_mem   box_loss   cls_loss   dfl_loss  Instances       Size\n",
      "      12/60      4.39G      1.064     0.7621      1.245         24        640: 1\n",
      "                 Class     Images  Instances      Box(P          R      mAP50  m\n",
      "                   all       3165       5245      0.889      0.841      0.906       0.64\n",
      "\n",
      "      Epoch    GPU_mem   box_loss   cls_loss   dfl_loss  Instances       Size\n",
      "      13/60      4.44G      1.053     0.7428      1.234         18        640: 1\n",
      "                 Class     Images  Instances      Box(P          R      mAP50  m\n",
      "                   all       3165       5245      0.887      0.846      0.907      0.649\n",
      "\n",
      "      Epoch    GPU_mem   box_loss   cls_loss   dfl_loss  Instances       Size\n",
      "      14/60      4.63G      1.042     0.7323      1.226         19        640: 1\n",
      "                 Class     Images  Instances      Box(P          R      mAP50  m\n",
      "                   all       3165       5245      0.901       0.84      0.912      0.652\n",
      "\n",
      "      Epoch    GPU_mem   box_loss   cls_loss   dfl_loss  Instances       Size\n",
      "      15/60      4.32G      1.035     0.7247      1.223         19        640: 1\n",
      "                 Class     Images  Instances      Box(P          R      mAP50  m\n",
      "                   all       3165       5245      0.895      0.852      0.912      0.656\n",
      "\n",
      "      Epoch    GPU_mem   box_loss   cls_loss   dfl_loss  Instances       Size\n",
      "      16/60      4.69G      1.013     0.7009      1.213         27        640: 1\n",
      "                 Class     Images  Instances      Box(P          R      mAP50  m\n",
      "                   all       3165       5245      0.895       0.87      0.921      0.666\n",
      "\n",
      "      Epoch    GPU_mem   box_loss   cls_loss   dfl_loss  Instances       Size\n",
      "      17/60      4.52G       1.01     0.6914      1.206         14        640: 1\n",
      "                 Class     Images  Instances      Box(P          R      mAP50  m\n",
      "                   all       3165       5245      0.897      0.865      0.922      0.675\n",
      "\n",
      "      Epoch    GPU_mem   box_loss   cls_loss   dfl_loss  Instances       Size\n",
      "      18/60      4.55G     0.9998     0.6835      1.203         26        640: 1\n",
      "                 Class     Images  Instances      Box(P          R      mAP50  m\n",
      "                   all       3165       5245       0.91      0.868      0.926      0.678\n",
      "\n",
      "      Epoch    GPU_mem   box_loss   cls_loss   dfl_loss  Instances       Size\n",
      "      19/60      4.79G     0.9987     0.6708      1.196         20        640: 1\n",
      "                 Class     Images  Instances      Box(P          R      mAP50  m\n",
      "                   all       3165       5245      0.906      0.867      0.927      0.684\n",
      "\n",
      "      Epoch    GPU_mem   box_loss   cls_loss   dfl_loss  Instances       Size\n",
      "      20/60      4.99G     0.9822     0.6637       1.19         20        640: 1\n",
      "                 Class     Images  Instances      Box(P          R      mAP50  m\n",
      "                   all       3165       5245      0.909      0.866      0.926      0.686\n",
      "\n",
      "      Epoch    GPU_mem   box_loss   cls_loss   dfl_loss  Instances       Size\n",
      "      21/60       4.6G     0.9723     0.6543      1.185         26        640: 1\n",
      "                 Class     Images  Instances      Box(P          R      mAP50  m\n",
      "                   all       3165       5245      0.905       0.87      0.929      0.693\n",
      "\n",
      "      Epoch    GPU_mem   box_loss   cls_loss   dfl_loss  Instances       Size\n",
      "      22/60      4.58G     0.9747     0.6517      1.181         16        640: 1\n",
      "                 Class     Images  Instances      Box(P          R      mAP50  m\n",
      "                   all       3165       5245      0.912      0.876       0.93      0.692\n",
      "\n",
      "      Epoch    GPU_mem   box_loss   cls_loss   dfl_loss  Instances       Size\n",
      "      23/60      4.59G     0.9688      0.648      1.179         38        640: 1\n",
      "                 Class     Images  Instances      Box(P          R      mAP50  m\n",
      "                   all       3165       5245      0.915      0.868      0.933      0.698\n",
      "\n",
      "      Epoch    GPU_mem   box_loss   cls_loss   dfl_loss  Instances       Size\n",
      "      24/60      4.64G     0.9575     0.6331      1.175         16        640: 1\n",
      "                 Class     Images  Instances      Box(P          R      mAP50  m\n",
      "                   all       3165       5245      0.912      0.874      0.935        0.7\n",
      "\n",
      "      Epoch    GPU_mem   box_loss   cls_loss   dfl_loss  Instances       Size\n",
      "      25/60      4.76G     0.9478     0.6234      1.164         23        640: 1\n",
      "                 Class     Images  Instances      Box(P          R      mAP50  m\n",
      "                   all       3165       5245      0.905      0.879      0.935      0.703\n",
      "\n",
      "      Epoch    GPU_mem   box_loss   cls_loss   dfl_loss  Instances       Size\n",
      "      26/60      4.73G     0.9413     0.6151      1.165         22        640: 1\n",
      "                 Class     Images  Instances      Box(P          R      mAP50  m\n",
      "                   all       3165       5245      0.906      0.888      0.939      0.708\n",
      "\n",
      "      Epoch    GPU_mem   box_loss   cls_loss   dfl_loss  Instances       Size\n",
      "      27/60      4.55G     0.9369     0.6103      1.161         22        640: 1\n",
      "                 Class     Images  Instances      Box(P          R      mAP50  m\n",
      "                   all       3165       5245      0.913      0.885       0.94       0.71\n",
      "\n",
      "      Epoch    GPU_mem   box_loss   cls_loss   dfl_loss  Instances       Size\n",
      "      28/60      4.68G     0.9335     0.6092      1.157         24        640: 1\n",
      "                 Class     Images  Instances      Box(P          R      mAP50  m\n",
      "                   all       3165       5245      0.914      0.882      0.938      0.711\n",
      "\n",
      "      Epoch    GPU_mem   box_loss   cls_loss   dfl_loss  Instances       Size\n",
      "      29/60      4.82G     0.9206     0.5961      1.152         18        640: 1\n",
      "                 Class     Images  Instances      Box(P          R      mAP50  m\n",
      "                   all       3165       5245      0.916      0.882       0.94      0.713\n",
      "\n",
      "      Epoch    GPU_mem   box_loss   cls_loss   dfl_loss  Instances       Size\n",
      "      30/60      4.83G     0.9161     0.5925      1.148         24        640: 1\n",
      "                 Class     Images  Instances      Box(P          R      mAP50  m\n",
      "                   all       3165       5245       0.92      0.877      0.942      0.716\n",
      "\n",
      "      Epoch    GPU_mem   box_loss   cls_loss   dfl_loss  Instances       Size\n",
      "      31/60      5.03G     0.9139      0.586      1.147         35        640: 1\n",
      "                 Class     Images  Instances      Box(P          R      mAP50  m\n",
      "                   all       3165       5245       0.92       0.88      0.942      0.718\n",
      "\n",
      "      Epoch    GPU_mem   box_loss   cls_loss   dfl_loss  Instances       Size\n",
      "      32/60      4.89G     0.9058      0.581      1.146         18        640: 1\n",
      "                 Class     Images  Instances      Box(P          R      mAP50  m\n",
      "                   all       3165       5245      0.911      0.884      0.942      0.718\n",
      "\n",
      "      Epoch    GPU_mem   box_loss   cls_loss   dfl_loss  Instances       Size\n",
      "      33/60      4.63G     0.9017     0.5725      1.139         21        640: 1\n",
      "                 Class     Images  Instances      Box(P          R      mAP50  m\n",
      "                   all       3165       5245      0.908      0.889      0.942      0.719\n",
      "\n",
      "      Epoch    GPU_mem   box_loss   cls_loss   dfl_loss  Instances       Size\n",
      "      34/60      4.75G     0.8951     0.5678      1.134         18        640: 1\n",
      "                 Class     Images  Instances      Box(P          R      mAP50  m\n",
      "                   all       3165       5245      0.907      0.892      0.942      0.721\n",
      "\n",
      "      Epoch    GPU_mem   box_loss   cls_loss   dfl_loss  Instances       Size\n",
      "      35/60      4.61G     0.8888     0.5597      1.135         22        640: 1\n",
      "                 Class     Images  Instances      Box(P          R      mAP50  m\n",
      "                   all       3165       5245      0.911      0.889      0.943      0.724\n",
      "\n",
      "      Epoch    GPU_mem   box_loss   cls_loss   dfl_loss  Instances       Size\n",
      "      36/60      4.38G     0.8823      0.555      1.127         20        640: 1\n",
      "                 Class     Images  Instances      Box(P          R      mAP50  m\n",
      "                   all       3165       5245       0.91      0.892      0.944      0.725\n",
      "\n",
      "      Epoch    GPU_mem   box_loss   cls_loss   dfl_loss  Instances       Size\n",
      "      37/60      4.71G     0.8794     0.5499      1.123         17        640: 1\n",
      "                 Class     Images  Instances      Box(P          R      mAP50  m\n",
      "                   all       3165       5245      0.918      0.886      0.945      0.727\n",
      "\n",
      "      Epoch    GPU_mem   box_loss   cls_loss   dfl_loss  Instances       Size\n",
      "      38/60      4.67G     0.8729     0.5467      1.122         22        640: 1\n",
      "                 Class     Images  Instances      Box(P          R      mAP50  m\n",
      "                   all       3165       5245      0.906        0.9      0.946      0.727\n",
      "\n",
      "      Epoch    GPU_mem   box_loss   cls_loss   dfl_loss  Instances       Size\n",
      "      39/60      4.83G     0.8649     0.5362      1.115         14        640: 1\n",
      "                 Class     Images  Instances      Box(P          R      mAP50  m\n",
      "                   all       3165       5245      0.907      0.901      0.945      0.727\n",
      "\n",
      "      Epoch    GPU_mem   box_loss   cls_loss   dfl_loss  Instances       Size\n",
      "      40/60      4.65G     0.8616     0.5396      1.115         35        640: 1\n",
      "                 Class     Images  Instances      Box(P          R      mAP50  m\n",
      "                   all       3165       5245      0.912      0.896      0.946      0.728\n",
      "\n",
      "      Epoch    GPU_mem   box_loss   cls_loss   dfl_loss  Instances       Size\n",
      "      41/60      5.04G     0.8502     0.5274      1.111         23        640: 1\n",
      "                 Class     Images  Instances      Box(P          R      mAP50  m\n",
      "                   all       3165       5245      0.915      0.895      0.946      0.729\n",
      "\n",
      "      Epoch    GPU_mem   box_loss   cls_loss   dfl_loss  Instances       Size\n",
      "      42/60      4.78G     0.8517     0.5228      1.108         22        640: 1\n",
      "                 Class     Images  Instances      Box(P          R      mAP50  m\n",
      "                   all       3165       5245      0.913        0.9      0.946      0.729\n",
      "\n",
      "      Epoch    GPU_mem   box_loss   cls_loss   dfl_loss  Instances       Size\n",
      "      43/60      4.59G     0.8439     0.5192      1.107         20        640: 1\n",
      "                 Class     Images  Instances      Box(P          R      mAP50  m\n",
      "                   all       3165       5245      0.919      0.895      0.947       0.73\n",
      "\n",
      "      Epoch    GPU_mem   box_loss   cls_loss   dfl_loss  Instances       Size\n",
      "      44/60      4.62G     0.8379     0.5122      1.099         16        640: 1\n",
      "                 Class     Images  Instances      Box(P          R      mAP50  m\n",
      "                   all       3165       5245       0.92      0.894      0.947      0.732\n",
      "\n",
      "      Epoch    GPU_mem   box_loss   cls_loss   dfl_loss  Instances       Size\n",
      "      45/60      4.79G     0.8294     0.5033      1.096         41        640: 1\n",
      "                 Class     Images  Instances      Box(P          R      mAP50  m\n",
      "                   all       3165       5245      0.918      0.897      0.948      0.732\n",
      "\n",
      "      Epoch    GPU_mem   box_loss   cls_loss   dfl_loss  Instances       Size\n",
      "      46/60      4.75G     0.8185     0.4992      1.091         22        640: 1\n",
      "                 Class     Images  Instances      Box(P          R      mAP50  m\n",
      "                   all       3165       5245      0.919      0.899      0.948      0.733\n",
      "\n",
      "      Epoch    GPU_mem   box_loss   cls_loss   dfl_loss  Instances       Size\n",
      "      47/60      4.38G     0.8177      0.496      1.093         24        640: 1\n",
      "                 Class     Images  Instances      Box(P          R      mAP50  m\n",
      "                   all       3165       5245      0.921      0.897      0.949      0.734\n",
      "\n",
      "      Epoch    GPU_mem   box_loss   cls_loss   dfl_loss  Instances       Size\n",
      "      48/60       4.6G     0.8155     0.4903      1.088         21        640: 1\n",
      "                 Class     Images  Instances      Box(P          R      mAP50  m\n",
      "                   all       3165       5245       0.92      0.899       0.95      0.735\n",
      "\n",
      "      Epoch    GPU_mem   box_loss   cls_loss   dfl_loss  Instances       Size\n",
      "      49/60      4.42G     0.8062     0.4859      1.083         40        640: 1\n",
      "                 Class     Images  Instances      Box(P          R      mAP50  m\n",
      "                   all       3165       5245      0.919      0.901       0.95      0.735\n",
      "\n",
      "      Epoch    GPU_mem   box_loss   cls_loss   dfl_loss  Instances       Size\n",
      "      50/60      4.79G     0.8011     0.4803      1.081         16        640: 1\n",
      "                 Class     Images  Instances      Box(P          R      mAP50  m\n",
      "                   all       3165       5245      0.922      0.899       0.95      0.736\n",
      "\n",
      "      Epoch    GPU_mem   box_loss   cls_loss   dfl_loss  Instances       Size\n",
      "      51/60       4.5G     0.7922     0.4755      1.078         22        640: 1\n",
      "                 Class     Images  Instances      Box(P          R      mAP50  m\n",
      "                   all       3165       5245      0.923      0.901       0.95      0.736\n",
      "\n",
      "      Epoch    GPU_mem   box_loss   cls_loss   dfl_loss  Instances       Size\n",
      "      52/60      4.53G     0.7835     0.4692      1.076         15        640: 1\n",
      "                 Class     Images  Instances      Box(P          R      mAP50  m\n",
      "                   all       3165       5245      0.923        0.9       0.95      0.737\n",
      "\n",
      "      Epoch    GPU_mem   box_loss   cls_loss   dfl_loss  Instances       Size\n",
      "      53/60      4.82G     0.7836     0.4652      1.071         37        640: 1\n",
      "                 Class     Images  Instances      Box(P          R      mAP50  m\n",
      "                   all       3165       5245       0.92      0.904       0.95      0.738\n",
      "\n",
      "      Epoch    GPU_mem   box_loss   cls_loss   dfl_loss  Instances       Size\n",
      "      54/60      4.38G     0.7771     0.4591      1.068         23        640: 1\n",
      "                 Class     Images  Instances      Box(P          R      mAP50  m\n",
      "                   all       3165       5245       0.92      0.904       0.95      0.739\n",
      "\n",
      "      Epoch    GPU_mem   box_loss   cls_loss   dfl_loss  Instances       Size\n",
      "      55/60       4.4G     0.7714     0.4512      1.064         26        640: 1\n",
      "                 Class     Images  Instances      Box(P          R      mAP50  m\n",
      "                   all       3165       5245      0.921      0.903      0.951      0.739\n",
      "\n",
      "      Epoch    GPU_mem   box_loss   cls_loss   dfl_loss  Instances       Size\n",
      "      56/60      4.34G     0.7638     0.4462      1.063         27        640: 1\n",
      "                 Class     Images  Instances      Box(P          R      mAP50  m\n",
      "                   all       3165       5245       0.92      0.905      0.951      0.739\n",
      "\n",
      "      Epoch    GPU_mem   box_loss   cls_loss   dfl_loss  Instances       Size\n",
      "      57/60       4.8G     0.7535     0.4385      1.062         13        640: 1\n",
      "                 Class     Images  Instances      Box(P          R      mAP50  m\n",
      "                   all       3165       5245      0.921      0.904      0.951       0.74\n",
      "\n",
      "      Epoch    GPU_mem   box_loss   cls_loss   dfl_loss  Instances       Size\n",
      "      58/60      4.55G     0.7528     0.4371      1.059         13        640: 1\n",
      "                 Class     Images  Instances      Box(P          R      mAP50  m\n",
      "                   all       3165       5245       0.92      0.905      0.951       0.74\n",
      "\n",
      "      Epoch    GPU_mem   box_loss   cls_loss   dfl_loss  Instances       Size\n",
      "      59/60      4.97G     0.7488     0.4323      1.057         35        640: 1\n",
      "                 Class     Images  Instances      Box(P          R      mAP50  m\n",
      "                   all       3165       5245       0.92      0.905      0.951       0.74\n",
      "\n",
      "      Epoch    GPU_mem   box_loss   cls_loss   dfl_loss  Instances       Size\n",
      "      60/60      4.36G     0.7431     0.4259      1.056         23        640: 1\n",
      "                 Class     Images  Instances      Box(P          R      mAP50  m\n",
      "                   all       3165       5245      0.921      0.905      0.951      0.741\n",
      "\n",
      "60 epochs completed in 3.896 hours.\n",
      "Optimizer stripped from runs/detect/train16/weights/last.pt, 22.5MB\n",
      "Optimizer stripped from runs/detect/train16/weights/best.pt, 22.5MB\n",
      "\n",
      "Validating runs/detect/train16/weights/best.pt...\n",
      "Ultralytics YOLOv8.0.84 🚀 Python-3.9.16 torch-1.12.1+cu116 CUDA:0 (NVIDIA RTX A4000, 16117MiB)\n",
      "Model summary (fused): 168 layers, 11126745 parameters, 0 gradients, 28.4 GFLOPs\n",
      "                 Class     Images  Instances      Box(P          R      mAP50  m\n",
      "                   all       3165       5245      0.921      0.905      0.951      0.741\n",
      "             uncovered       3165       1579      0.916      0.883      0.937       0.72\n",
      "         fully_covered       3165       1666      0.874      0.869      0.928      0.663\n",
      "     partially_covered       3165       2000      0.972      0.963      0.988       0.84\n",
      "Speed: 0.2ms preprocess, 2.3ms inference, 0.0ms loss, 0.6ms postprocess per image\n",
      "Results saved to \u001b[1mruns/detect/train16\u001b[0m\n"
     ]
    }
   ],
   "source": [
    "!yolo task=detect mode=train model=yolov8s.pt data={dataset_path}/data.yaml epochs=60 imgsz=640 plots=True"
   ]
  },
  {
   "cell_type": "code",
   "execution_count": 14,
   "id": "d1ebf30a-f5b7-4cb3-b07f-8d21cfcb2773",
   "metadata": {
    "execution": {
     "iopub.execute_input": "2023-04-22T11:36:17.006629Z",
     "iopub.status.busy": "2023-04-22T11:36:17.006357Z",
     "iopub.status.idle": "2023-04-22T11:36:46.518612Z",
     "shell.execute_reply": "2023-04-22T11:36:46.517896Z",
     "shell.execute_reply.started": "2023-04-22T11:36:17.006617Z"
    }
   },
   "outputs": [
    {
     "name": "stdout",
     "output_type": "stream",
     "text": [
      "Ultralytics YOLOv8.0.84 🚀 Python-3.9.16 torch-1.12.1+cu116 CPU\n",
      "Model summary (fused): 168 layers, 11126745 parameters, 0 gradients, 28.4 GFLOPs\n",
      "\n",
      "\u001b[34m\u001b[1mPyTorch:\u001b[0m starting from /notebooks/experiment1/runs/detect/train16/weights/best.pt with input shape (1, 3, 640, 640) BCHW and output shape(s) (1, 7, 8400) (21.5 MB)\n",
      "\u001b[31m\u001b[1mrequirements:\u001b[0m YOLOv8 requirements \"onnx\" \"onnxsim>=0.4.17\" \"onnx_graphsurgeon>=0.3.26\" not found, attempting AutoUpdate...\n",
      "\u001b[31mERROR: pip's dependency resolver does not currently take into account all the packages that are installed. This behaviour is the source of the following dependency conflicts.\n",
      "tensorflowjs 4.4.0 requires protobuf<3.20,>=3.9.2, but you have protobuf 3.20.3 which is incompatible.\n",
      "tensorflow 2.11.1 requires protobuf<3.20,>=3.9.2, but you have protobuf 3.20.3 which is incompatible.\u001b[0m\u001b[31m\n",
      "\u001b[0m\u001b[33mWARNING: Running pip as the 'root' user can result in broken permissions and conflicting behaviour with the system package manager. It is recommended to use a virtual environment instead: https://pip.pypa.io/warnings/venv\u001b[0m\u001b[33m\n",
      "\u001b[0mLooking in indexes: https://pypi.org/simple, https://pypi.ngc.nvidia.com\n",
      "Requirement already satisfied: onnx in /usr/local/lib/python3.9/dist-packages (1.13.1)\n",
      "Requirement already satisfied: onnxsim>=0.4.17 in /usr/local/lib/python3.9/dist-packages (0.4.24)\n",
      "Requirement already satisfied: onnx_graphsurgeon>=0.3.26 in /usr/local/lib/python3.9/dist-packages (0.3.26)\n",
      "Collecting protobuf<4,>=3.20.2\n",
      "  Downloading protobuf-3.20.3-cp39-cp39-manylinux_2_5_x86_64.manylinux1_x86_64.whl (1.0 MB)\n",
      "     ━━━━━━━━━━━━━━━━━━━━━━━━━━━━━━━━━━━━━━━━ 1.0/1.0 MB 166.4 MB/s eta 0:00:00\n",
      "Requirement already satisfied: numpy>=1.16.6 in /usr/local/lib/python3.9/dist-packages (from onnx) (1.23.4)\n",
      "Requirement already satisfied: typing-extensions>=3.6.2.1 in /usr/local/lib/python3.9/dist-packages (from onnx) (4.4.0)\n",
      "Requirement already satisfied: rich in /usr/local/lib/python3.9/dist-packages (from onnxsim>=0.4.17) (13.2.0)\n",
      "Requirement already satisfied: pygments<3.0.0,>=2.6.0 in /usr/local/lib/python3.9/dist-packages (from rich->onnxsim>=0.4.17) (2.14.0)\n",
      "Requirement already satisfied: markdown-it-py<3.0.0,>=2.1.0 in /usr/local/lib/python3.9/dist-packages (from rich->onnxsim>=0.4.17) (2.1.0)\n",
      "Requirement already satisfied: mdurl~=0.1 in /usr/local/lib/python3.9/dist-packages (from markdown-it-py<3.0.0,>=2.1.0->rich->onnxsim>=0.4.17) (0.1.2)\n",
      "Installing collected packages: protobuf\n",
      "  Attempting uninstall: protobuf\n",
      "    Found existing installation: protobuf 3.19.6\n",
      "    Uninstalling protobuf-3.19.6:\n",
      "      Successfully uninstalled protobuf-3.19.6\n",
      "Successfully installed protobuf-3.20.3\n",
      "\n",
      "\u001b[31m\u001b[1mrequirements:\u001b[0m 3 packages updated per ('onnx', 'onnx2tf>=1.7.7', 'sng4onnx>=1.0.1', 'onnxsim>=0.4.17', 'onnx_graphsurgeon>=0.3.26', 'tflite_support', 'onnxruntime')\n",
      "\u001b[31m\u001b[1mrequirements:\u001b[0m ⚠️ \u001b[1mRestart runtime or rerun command for updates to take effect\u001b[0m\n",
      "\n",
      "\n",
      "\u001b[34m\u001b[1mTensorFlow SavedModel:\u001b[0m starting export with tensorflow 2.11.1...\n",
      "\n",
      "\u001b[34m\u001b[1mONNX:\u001b[0m starting export with onnx 1.13.1 opset 10...\n",
      "\u001b[34m\u001b[1mONNX:\u001b[0m simplifying with onnxsim 0.4.24...\n",
      "\u001b[34m\u001b[1mONNX:\u001b[0m export success ✅ 4.1s, saved as /notebooks/experiment1/runs/detect/train16/weights/best.onnx (42.6 MB)\n",
      "\n",
      "\u001b[34m\u001b[1mTensorFlow SavedModel:\u001b[0m running 'onnx2tf -i /notebooks/experiment1/runs/detect/train16/weights/best.onnx -o /notebooks/experiment1/runs/detect/train16/weights/best_saved_model -nuo --non_verbose'\n",
      "2023-04-22 11:36:39.347798: E tensorflow/compiler/xla/stream_executor/cuda/cuda_driver.cc:267] failed call to cuInit: CUDA_ERROR_NO_DEVICE: no CUDA-capable device is detected\n",
      "\u001b[34m\u001b[1mTensorFlow SavedModel:\u001b[0m export success ✅ 19.2s, saved as /notebooks/experiment1/runs/detect/train16/weights/best_saved_model (106.7 MB)\n",
      "\n",
      "\u001b[34m\u001b[1mTensorFlow GraphDef:\u001b[0m starting export with tensorflow 2.11.1...\n",
      "WARNING:tensorflow:From /usr/local/lib/python3.9/dist-packages/tensorflow/python/autograph/pyct/static_analysis/liveness.py:83: Analyzer.lamba_check (from tensorflow.python.autograph.pyct.static_analysis.liveness) is deprecated and will be removed after 2023-09-23.\n",
      "Instructions for updating:\n",
      "Lambda fuctions will be no more assumed to be used in the statement where they are used, or at least in the same block. https://github.com/tensorflow/tensorflow/issues/56089\n",
      "\u001b[34m\u001b[1mTensorFlow GraphDef:\u001b[0m export success ✅ 1.0s, saved as /notebooks/experiment1/runs/detect/train16/weights/best.pb (42.7 MB)\n",
      "WARNING:root:TensorFlow Decision Forests 1.2.0 is compatible with the following TensorFlow Versions: ['2.11.0']. However, TensorFlow 2.11.1 was detected. This can cause issues with the TF API and symbols in the custom C++ ops. See the TF and TF-DF compatibility table at https://github.com/tensorflow/decision-forests/blob/main/documentation/known_issues.md#compatibility-table.\n",
      "\n",
      "\u001b[34m\u001b[1mTensorFlow.js:\u001b[0m starting export with tensorflowjs 4.4.0...\n",
      "\n",
      "\u001b[34m\u001b[1mTensorFlow.js:\u001b[0m output node names: Identity:0\n",
      "WARNING:root:TensorFlow Decision Forests 1.2.0 is compatible with the following TensorFlow Versions: ['2.11.0']. However, TensorFlow 2.11.1 was detected. This can cause issues with the TF API and symbols in the custom C++ ops. See the TF and TF-DF compatibility table at https://github.com/tensorflow/decision-forests/blob/main/documentation/known_issues.md#compatibility-table.\n",
      "weight 1104 with shape (3,) and dtype int64 was auto converted to the type int32\n",
      "weight 1106 with shape (3,) and dtype int64 was auto converted to the type int32\n",
      "weight PartitionedCall/model/tf.strided_slice_1/StridedSlice/strides with shape (3,) and dtype int64 was auto converted to the type int32\n",
      "weight 1116 with shape (3,) and dtype int64 was auto converted to the type int32\n",
      "weight 1118 with shape (3,) and dtype int64 was auto converted to the type int32\n",
      "weight PartitionedCall/model/tf.strided_slice_3/StridedSlice/strides with shape (3,) and dtype int64 was auto converted to the type int32\n",
      "\u001b[34m\u001b[1mTensorFlow.js:\u001b[0m export success ✅ 4.7s, saved as /notebooks/experiment1/runs/detect/train16/weights/best_web_model (42.7 MB)\n",
      "\n",
      "Export complete (25.7s)\n",
      "Results saved to \u001b[1m/notebooks/experiment1/runs/detect/train16/weights\u001b[0m\n",
      "Predict:         yolo predict task=detect model=/notebooks/experiment1/runs/detect/train16/weights/best_web_model imgsz=640 \n",
      "Validate:        yolo val task=detect model=/notebooks/experiment1/runs/detect/train16/weights/best_web_model imgsz=640 data=/notebooks/experiment1/dataset/data.yaml \n",
      "Visualize:       https://netron.app\n"
     ]
    }
   ],
   "source": [
    "!yolo export model=\"/notebooks/experiment1/runs/detect/train16/weights/best.pt\" format=tfjs"
   ]
  },
  {
   "cell_type": "code",
   "execution_count": 19,
   "id": "ceed96c4-05eb-4459-a944-ce12b9ed8aa3",
   "metadata": {
    "execution": {
     "iopub.execute_input": "2023-04-22T11:45:14.174096Z",
     "iopub.status.busy": "2023-04-22T11:45:14.173505Z",
     "iopub.status.idle": "2023-04-22T11:45:16.010534Z",
     "shell.execute_reply": "2023-04-22T11:45:16.009731Z",
     "shell.execute_reply.started": "2023-04-22T11:45:14.174072Z"
    }
   },
   "outputs": [
    {
     "data": {
      "text/plain": [
       "'/notebooks/experiment1/best_web_model.zip'"
      ]
     },
     "execution_count": 19,
     "metadata": {},
     "output_type": "execute_result"
    }
   ],
   "source": [
    "import shutil\n",
    "shutil.make_archive(\"best_web_model\", 'zip', \"./runs/detect/train16/weights/best_web_model\")"
   ]
  }
 ],
 "metadata": {
  "kernelspec": {
   "display_name": "Python 3 (ipykernel)",
   "language": "python",
   "name": "python3"
  },
  "language_info": {
   "codemirror_mode": {
    "name": "ipython",
    "version": 3
   },
   "file_extension": ".py",
   "mimetype": "text/x-python",
   "name": "python",
   "nbconvert_exporter": "python",
   "pygments_lexer": "ipython3",
   "version": "3.9.16"
  }
 },
 "nbformat": 4,
 "nbformat_minor": 5
}
