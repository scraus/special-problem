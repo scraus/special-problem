{
 "cells": [
  {
   "attachments": {},
   "cell_type": "markdown",
   "metadata": {},
   "source": [
    "# Data cleaning\n"
   ]
  },
  {
   "attachments": {},
   "cell_type": "markdown",
   "metadata": {},
   "source": [
    "**STEPS:**\n",
    "1. Download the 5 small datasets (resized version) and combine them into 1 folder (combined_set).\n",
    "2. Split the dataset for training, validation, and testing in 80:10:10 ratio.\n",
    "3. Show class distribution.\n",
    "4. Show graph for the training set class distribution.\n",
    "\n",
    "*Date executed: April 06, 2023*"
   ]
  },
  {
   "cell_type": "markdown",
   "metadata": {},
   "source": [
    "----"
   ]
  },
  {
   "cell_type": "code",
   "execution_count": 1,
   "metadata": {},
   "outputs": [],
   "source": [
    "import os\n",
    "import random\n",
    "import shutil\n",
    "import matplotlib.pyplot as plt"
   ]
  },
  {
   "attachments": {},
   "cell_type": "markdown",
   "metadata": {},
   "source": [
    "## Split the dataset to 80:10:10 ratio.\n",
    "The `train` dataset contains 80% of the dataset, while `test` and `valid` contains 10% each."
   ]
  },
  {
   "cell_type": "code",
   "execution_count": 2,
   "metadata": {},
   "outputs": [],
   "source": [
    "# Set the paths for your dataset\n",
    "# data_path = r\"C:\\Users\\sheil\\OneDrive\\Documents\\Craus\\resized\\resized_set\"\n",
    "data_path = r\"C:\\Users\\sheil\\OneDrive\\Documents\\Craus\\combined_set\"\n",
    "images_path = os.path.join(data_path, 'images')\n",
    "labels_path = os.path.join(data_path, 'labels')\n",
    "\n",
    "# Set the paths for your new train/valid/test folders\n",
    "train_path = os.path.join(data_path, 'train')\n",
    "valid_path = os.path.join(data_path, 'valid')\n",
    "test_path = os.path.join(data_path, 'test')\n",
    "\n",
    "# Set the names for the sub-folders\n",
    "images_folder = 'images'\n",
    "labels_folder = 'labels'\n",
    "\n",
    "# Set the ratios for train/valid/test\n",
    "train_ratio = 0.8\n",
    "valid_ratio = 0.1\n",
    "test_ratio = 0.1\n",
    "\n",
    "# Create the new folders if they don't exist\n",
    "os.makedirs(train_path, exist_ok=True)\n",
    "os.makedirs(os.path.join(train_path, images_folder), exist_ok=True)\n",
    "os.makedirs(os.path.join(train_path, labels_folder), exist_ok=True)\n",
    "\n",
    "os.makedirs(valid_path, exist_ok=True)\n",
    "os.makedirs(os.path.join(valid_path, images_folder), exist_ok=True)\n",
    "os.makedirs(os.path.join(valid_path, labels_folder), exist_ok=True)\n",
    "\n",
    "os.makedirs(test_path, exist_ok=True)\n",
    "os.makedirs(os.path.join(test_path, images_folder), exist_ok=True)\n",
    "os.makedirs(os.path.join(test_path, labels_folder), exist_ok=True)\n",
    "\n",
    "# Get the list of image filenames\n",
    "image_filenames = [f for f in os.listdir(images_path) if f.endswith(('.jpg', '.jpeg', '.png'))]\n",
    "\n",
    "# Shuffle the image filenames randomly\n",
    "random.shuffle(image_filenames)\n",
    "\n",
    "# Calculate the split points for train/valid/test\n",
    "train_split = int(len(image_filenames) * train_ratio)\n",
    "valid_split = int(len(image_filenames) * (train_ratio + valid_ratio))\n",
    "\n",
    "# Move the images and labels to the corresponding folders\n",
    "for i, image_filename in enumerate(image_filenames):\n",
    "    src_image_path = os.path.join(images_path, image_filename)\n",
    "    src_label_path = os.path.join(labels_path, image_filename.replace(os.path.splitext(image_filename)[1], '.txt'))\n",
    "    \n",
    "    if i < train_split:\n",
    "        dst_image_path = os.path.join(train_path, images_folder, image_filename)\n",
    "        dst_label_path = os.path.join(train_path, labels_folder, image_filename.replace(os.path.splitext(image_filename)[1], '.txt'))\n",
    "    elif i < valid_split:\n",
    "        dst_image_path = os.path.join(valid_path, images_folder, image_filename)\n",
    "        dst_label_path = os.path.join(valid_path, labels_folder, image_filename.replace(os.path.splitext(image_filename)[1], '.txt'))\n",
    "    else:\n",
    "        dst_image_path = os.path.join(test_path, images_folder, image_filename)\n",
    "        dst_label_path = os.path.join(test_path, labels_folder, image_filename.replace(os.path.splitext(image_filename)[1], '.txt'))\n",
    "    \n",
    "    shutil.copy(src_image_path, dst_image_path)\n",
    "    shutil.copy(src_label_path, dst_label_path)\n"
   ]
  },
  {
   "attachments": {},
   "cell_type": "markdown",
   "metadata": {},
   "source": [
    "Display the number of images in training, validation, and testing sets."
   ]
  },
  {
   "cell_type": "code",
   "execution_count": 3,
   "metadata": {},
   "outputs": [
    {
     "name": "stdout",
     "output_type": "stream",
     "text": [
      "Training set   = 25320 images\n",
      "Validation set = 3165 images\n",
      "Testing set    = 3165 images\n",
      "—————————————————————————————————\n",
      "Total images   = 31650 images\n"
     ]
    }
   ],
   "source": [
    "# Set the subfolder paths for images and labels\n",
    "train_images_path = os.path.join(train_path, 'images')\n",
    "valid_images_path = os.path.join(valid_path, 'images')\n",
    "test_images_path  = os.path.join(test_path, 'images')\n",
    "\n",
    "# Print the number of images in each folder\n",
    "train_size = len(os.listdir(train_images_path))\n",
    "valid_size = len(os.listdir(valid_images_path))\n",
    "test_size = len(os.listdir(test_images_path))\n",
    "\n",
    "print(f'Training set   = {train_size} images')\n",
    "print(f'Validation set = {valid_size} images')\n",
    "print(f'Testing set    = {test_size} images')\n",
    "print(f'—————————————————————————————————')\n",
    "print(f'Total images   = {train_size + valid_size + test_size} images')"
   ]
  },
  {
   "attachments": {},
   "cell_type": "markdown",
   "metadata": {},
   "source": [
    "## Class distribution\n",
    "Show how many annotations each class have.\n",
    "* Class 0 = `not_covered`\n",
    "* Class 1 = `fully_covered`\n",
    "* Class 2 = `partially_covered`\n"
   ]
  },
  {
   "cell_type": "code",
   "execution_count": 4,
   "metadata": {},
   "outputs": [
    {
     "name": "stdout",
     "output_type": "stream",
     "text": [
      "\n",
      "🚀 Reading C:\\Users\\sheil\\OneDrive\\Documents\\Craus\\combined_set\\train\\labels\n",
      "...\n",
      "======================== Summary ========================\n",
      " Class 0 - not_covered       = 12993 bbox 30.41%\n",
      " Class 1 - fully_covered     = 13799 bbox 32.29%\n",
      " Class 2 - partially_covered = 15936 bbox 37.3%\n",
      " Total bounding boxes        = 42728\n",
      "\n",
      "🎉 Done! There are 25320 files changed in C:\\Users\\sheil\\OneDrive\\Documents\\Craus\\combined_set\\train\\labels folder!\n",
      "=========================================================\n",
      "\n",
      "\n",
      "🚀 Reading C:\\Users\\sheil\\OneDrive\\Documents\\Craus\\combined_set\\valid\\labels\n",
      "...\n",
      "======================== Summary ========================\n",
      " Class 0 - not_covered       = 1746 bbox 32.52%\n",
      " Class 1 - fully_covered     = 1683 bbox 31.35%\n",
      " Class 2 - partially_covered = 1940 bbox 36.13%\n",
      " Total bounding boxes        = 5369\n",
      "\n",
      "🎉 Done! There are 3165 files changed in C:\\Users\\sheil\\OneDrive\\Documents\\Craus\\combined_set\\valid\\labels folder!\n",
      "=========================================================\n",
      "\n",
      "\n",
      "🚀 Reading C:\\Users\\sheil\\OneDrive\\Documents\\Craus\\combined_set\\test\\labels\n",
      "...\n",
      "======================== Summary ========================\n",
      " Class 0 - not_covered       = 1633 bbox 30.82%\n",
      " Class 1 - fully_covered     = 1717 bbox 32.41%\n",
      " Class 2 - partially_covered = 1948 bbox 36.77%\n",
      " Total bounding boxes        = 5298\n",
      "\n",
      "🎉 Done! There are 3165 files changed in C:\\Users\\sheil\\OneDrive\\Documents\\Craus\\combined_set\\test\\labels folder!\n",
      "=========================================================\n",
      "\n"
     ]
    }
   ],
   "source": [
    "# Label folder path\n",
    "# train   = r\"C:\\Users\\sheil\\OneDrive\\Documents\\Craus\\resized\\resized_set\\train\\labels\"\n",
    "train = os.path.join(data_path, 'train', 'labels')\n",
    "# valid   = r\"C:\\Users\\sheil\\OneDrive\\Documents\\Craus\\resized\\resized_set\\valid\\labels\"\n",
    "valid = os.path.join(data_path, 'valid', 'labels')\n",
    "# test    = r\"C:\\Users\\sheil\\OneDrive\\Documents\\Craus\\resized\\resized_set\\test\\labels\"\n",
    "test = os.path.join(data_path, 'test', 'labels')\n",
    "\n",
    "# Counters\n",
    "ctr = total_imgs = class0_annotations = class1_annotations = class2_annotations = total_annotations = 0\n",
    "\n",
    "def read_text_file(file_path):\n",
    "    ctr_0 = ctr_1 = ctr_2 = 0\n",
    "\n",
    "    with open(file_path, 'r') as fr:\n",
    "        lines = fr.readlines()\n",
    "\n",
    "        with open(file_path, 'w') as fw:\n",
    "            for line in lines:\n",
    "                if line.startswith('0'):\n",
    "                    ctr_0 = ctr_0 + 1\n",
    "                elif line.startswith('1'):\n",
    "                    ctr_1 = ctr_1 + 1\n",
    "                elif line.startswith('2'):\n",
    "                    ctr_2 = ctr_2 + 1\n",
    "    return [ctr_0, ctr_1, ctr_2]\n",
    "            \n",
    "            \n",
    "for path in [train, valid, test]:       \n",
    "    os.chdir(path)\n",
    "    bbox_0 = bbox_1 = bbox_2 = 0\n",
    "\n",
    "    print(f'\\n🚀 Reading {path}\\n...')\n",
    "\n",
    "    for file in os.listdir():\n",
    "        if file.endswith(\".txt\"):\n",
    "            img_ctr = read_text_file(f'{path}/{file}')\n",
    "            bbox_0   += img_ctr[0]\n",
    "            bbox_1   += img_ctr[1]\n",
    "            bbox_2   += img_ctr[2]\n",
    "            ctr      += 1\n",
    "    \n",
    "    total_boxes = bbox_0 + bbox_1 + bbox_2\n",
    "\n",
    "    # Display the summary per path (train, val, and test)\n",
    "    print(\"======================== Summary ========================\")\n",
    "    print(f' Class 0 - not_covered       = {bbox_0} bbox {round(bbox_0/total_boxes * 100, 2)}%')\n",
    "    print(f' Class 1 - fully_covered     = {bbox_1} bbox {round(bbox_1/total_boxes * 100, 2)}%')\n",
    "    print(f' Class 2 - partially_covered = {bbox_2} bbox {round(bbox_2/total_boxes * 100, 2)}%')\n",
    "    print(f' Total bounding boxes        = {total_boxes}')\n",
    "    print(f'\\n🎉 Done! There are {ctr} files changed in {path} folder!')\n",
    "    print(\"=========================================================\\n\")\n",
    "\n",
    "    total_imgs           += ctr\n",
    "    class0_annotations   += bbox_0\n",
    "    class1_annotations   += bbox_1\n",
    "    class2_annotations   += bbox_2\n",
    "    total_annotations    += total_boxes\n",
    "    ctr                  = 0"
   ]
  },
  {
   "attachments": {},
   "cell_type": "markdown",
   "metadata": {},
   "source": [
    "Display the total number of annotations of each class in each sets."
   ]
  },
  {
   "cell_type": "code",
   "execution_count": 5,
   "metadata": {},
   "outputs": [
    {
     "name": "stdout",
     "output_type": "stream",
     "text": [
      "——————————————————————————————— OVERALL SUMMARY ———————————————————————————————\n",
      " Total Images          = 31650\n",
      " Total Bounding boxes  = 53395\n",
      " Total Bbox of Class 0 = 16372 (not_covered)       - 30.66%\n",
      " Total Bbox of Class 1 = 17199 (fully_covered)     - 32.21%\n",
      " Total Bbox of Class 2 = 19824 (partially_covered) - 37.13%\n",
      "———————————————————————————————————————————————————————————————————————————————\n"
     ]
    }
   ],
   "source": [
    "# Display the overall summary\n",
    "print(\"——————————————————————————————— OVERALL SUMMARY ———————————————————————————————\")\n",
    "print(f' Total Images          = {total_imgs}')\n",
    "print(f' Total Bounding boxes  = {total_annotations}')\n",
    "print(f' Total Bbox of Class 0 = {class0_annotations} (not_covered)       - {round(class0_annotations/total_annotations * 100, 2)}%')\n",
    "print(f' Total Bbox of Class 1 = {class1_annotations} (fully_covered)     - {round(class1_annotations/total_annotations * 100, 2)}%')\n",
    "print(f' Total Bbox of Class 2 = {class2_annotations} (partially_covered) - {round(class2_annotations/total_annotations * 100, 2)}%')\n",
    "print(\"———————————————————————————————————————————————————————————————————————————————\")"
   ]
  },
  {
   "attachments": {},
   "cell_type": "markdown",
   "metadata": {},
   "source": [
    "## Class balance report for the `train` set\n",
    "Show a graph describing how each class was represented in the `train` dataset."
   ]
  },
  {
   "cell_type": "code",
   "execution_count": 12,
   "metadata": {},
   "outputs": [
    {
     "data": {
      "image/png": "[encoded data removed]",
      "text/plain": [
       "<Figure size 640x480 with 1 Axes>"
      ]
     },
     "metadata": {},
     "output_type": "display_data"
    }
   ],
   "source": [
    "# Define class labels and the number of annotations/bounding boxes\n",
    "labels = ['not_covered', 'fully_covered', 'partially_covered']\n",
    "bbox_counts = [12993, 13799, 15936] # training set\n",
    "\n",
    "# Create a bar graph\n",
    "plt.bar(labels, bbox_counts)\n",
    "\n",
    "# Add a title and axis labels\n",
    "plt.title('Training Set Class Distribution')\n",
    "plt.xlabel('Class')\n",
    "plt.ylabel('Number of Annotations')\n",
    "\n",
    "# Display the graph\n",
    "plt.show()"
   ]
  },
  {
   "attachments": {},
   "cell_type": "markdown",
   "metadata": {},
   "source": [
    "**🚀 Conclusion: We can see that the percentages are not exactly the same for each class, but they are relatively close. Therefore, we can say that the class distribution is somewhat balanced, with no class dominating the distribution.**"
   ]
  },
  {
   "attachments": {},
   "cell_type": "markdown",
   "metadata": {},
   "source": [
    "------\n"
   ]
  }
 ],
 "metadata": {
  "kernelspec": {
   "display_name": "Python 3 (ipykernel)",
   "language": "python",
   "name": "python3"
  },
  "language_info": {
   "codemirror_mode": {
    "name": "ipython",
    "version": 3
   },
   "file_extension": ".py",
   "mimetype": "text/x-python",
   "name": "python",
   "nbconvert_exporter": "python",
   "pygments_lexer": "ipython3",
   "version": "3.9.13"
  }
 },
 "nbformat": 4,
 "nbformat_minor": 4
}
