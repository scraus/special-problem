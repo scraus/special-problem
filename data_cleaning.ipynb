{
 "cells": [
  {
   "attachments": {},
   "cell_type": "markdown",
   "metadata": {},
   "source": [
    "# Data cleaning\n"
   ]
  },
  {
   "attachments": {},
   "cell_type": "markdown",
   "metadata": {},
   "source": [
    "* Date:       March 26, 2023\n",
    "1. Download the 3 small datasets (resized version) and combine them into 1 folder.\n",
    "2. Split the dataset in 80:10:10 ratio."
   ]
  },
  {
   "cell_type": "markdown",
   "metadata": {},
   "source": [
    "----"
   ]
  },
  {
   "cell_type": "code",
   "execution_count": 2,
   "metadata": {},
   "outputs": [],
   "source": [
    "import os\n",
    "import random\n",
    "import shutil"
   ]
  },
  {
   "attachments": {},
   "cell_type": "markdown",
   "metadata": {},
   "source": [
    "## Split the dataset to 80:10:10 ratio.\n",
    "The `train` dataset contains 80% of the dataset, while `test` and `valid` contains 10% each."
   ]
  },
  {
   "cell_type": "code",
   "execution_count": 3,
   "metadata": {},
   "outputs": [],
   "source": [
    "# Set the paths for your dataset\n",
    "data_path = r\"C:\\Users\\sheil\\OneDrive\\Documents\\Craus\\resized\\resized_set\"\n",
    "images_path = os.path.join(data_path, 'images')\n",
    "labels_path = os.path.join(data_path, 'labels')\n",
    "\n",
    "# Set the paths for your new train/valid/test folders\n",
    "train_path = os.path.join(data_path, 'train')\n",
    "valid_path = os.path.join(data_path, 'valid')\n",
    "test_path = os.path.join(data_path, 'test')\n",
    "\n",
    "# Set the names for the sub-folders\n",
    "images_folder = 'images'\n",
    "labels_folder = 'labels'\n",
    "\n",
    "# Set the ratios for train/valid/test\n",
    "train_ratio = 0.8\n",
    "valid_ratio = 0.1\n",
    "test_ratio = 0.1\n",
    "\n",
    "# Create the new folders if they don't exist\n",
    "os.makedirs(train_path, exist_ok=True)\n",
    "os.makedirs(os.path.join(train_path, images_folder), exist_ok=True)\n",
    "os.makedirs(os.path.join(train_path, labels_folder), exist_ok=True)\n",
    "\n",
    "os.makedirs(valid_path, exist_ok=True)\n",
    "os.makedirs(os.path.join(valid_path, images_folder), exist_ok=True)\n",
    "os.makedirs(os.path.join(valid_path, labels_folder), exist_ok=True)\n",
    "\n",
    "os.makedirs(test_path, exist_ok=True)\n",
    "os.makedirs(os.path.join(test_path, images_folder), exist_ok=True)\n",
    "os.makedirs(os.path.join(test_path, labels_folder), exist_ok=True)\n",
    "\n",
    "# Get the list of image filenames\n",
    "image_filenames = [f for f in os.listdir(images_path) if f.endswith(('.jpg', '.jpeg', '.png'))]\n",
    "\n",
    "# Shuffle the image filenames randomly\n",
    "random.shuffle(image_filenames)\n",
    "\n",
    "# Calculate the split points for train/valid/test\n",
    "train_split = int(len(image_filenames) * train_ratio)\n",
    "valid_split = int(len(image_filenames) * (train_ratio + valid_ratio))\n",
    "\n",
    "# Move the images and labels to the corresponding folders\n",
    "for i, image_filename in enumerate(image_filenames):\n",
    "    src_image_path = os.path.join(images_path, image_filename)\n",
    "    src_label_path = os.path.join(labels_path, image_filename.replace(os.path.splitext(image_filename)[1], '.txt'))\n",
    "    \n",
    "    if i < train_split:\n",
    "        dst_image_path = os.path.join(train_path, images_folder, image_filename)\n",
    "        dst_label_path = os.path.join(train_path, labels_folder, image_filename.replace(os.path.splitext(image_filename)[1], '.txt'))\n",
    "    elif i < valid_split:\n",
    "        dst_image_path = os.path.join(valid_path, images_folder, image_filename)\n",
    "        dst_label_path = os.path.join(valid_path, labels_folder, image_filename.replace(os.path.splitext(image_filename)[1], '.txt'))\n",
    "    else:\n",
    "        dst_image_path = os.path.join(test_path, images_folder, image_filename)\n",
    "        dst_label_path = os.path.join(test_path, labels_folder, image_filename.replace(os.path.splitext(image_filename)[1], '.txt'))\n",
    "    \n",
    "    shutil.copy(src_image_path, dst_image_path)\n",
    "    shutil.copy(src_label_path, dst_label_path)\n"
   ]
  },
  {
   "cell_type": "code",
   "execution_count": 4,
   "metadata": {},
   "outputs": [
    {
     "name": "stdout",
     "output_type": "stream",
     "text": [
      "Training dataset   = 17541 images\n",
      "Validation dataset = 2193 images\n",
      "Testing dataset    = 2193 images\n",
      "—————————————————————————————————\n",
      "Total images       = 21927 images\n"
     ]
    }
   ],
   "source": [
    "# Set the subfolder paths for images and labels\n",
    "train_images_path = os.path.join(train_path, 'images')\n",
    "valid_images_path = os.path.join(valid_path, 'images')\n",
    "test_images_path  = os.path.join(test_path, 'images')\n",
    "\n",
    "# Print the number of images in each folder\n",
    "train_size = len(os.listdir(train_images_path))\n",
    "valid_size = len(os.listdir(valid_images_path))\n",
    "test_size = len(os.listdir(test_images_path))\n",
    "\n",
    "print(f'Training dataset   = {train_size} images')\n",
    "print(f'Validation dataset = {valid_size} images')\n",
    "print(f'Testing dataset    = {test_size} images')\n",
    "print(f'—————————————————————————————————')\n",
    "print(f'Total images       = {train_size + valid_size + test_size} images')"
   ]
  },
  {
   "attachments": {},
   "cell_type": "markdown",
   "metadata": {},
   "source": [
    "## Class distribution\n",
    "Show how many annotations each class have.\n",
    "* Class 0 = `not_covered`\n",
    "* Class 1 = `fully_covered`\n",
    "* Class 2 = `partially_covered`\n"
   ]
  },
  {
   "cell_type": "code",
   "execution_count": null,
   "metadata": {},
   "outputs": [],
   "source": []
  },
  {
   "attachments": {},
   "cell_type": "markdown",
   "metadata": {},
   "source": [
    "## Class balance report \n",
    "Show a graph describing how each class was represented in the dataset."
   ]
  },
  {
   "cell_type": "code",
   "execution_count": null,
   "metadata": {},
   "outputs": [],
   "source": []
  }
 ],
 "metadata": {
  "kernelspec": {
   "display_name": "Python 3 (ipykernel)",
   "language": "python",
   "name": "python3"
  },
  "language_info": {
   "codemirror_mode": {
    "name": "ipython",
    "version": 3
   },
   "file_extension": ".py",
   "mimetype": "text/x-python",
   "name": "python",
   "nbconvert_exporter": "python",
   "pygments_lexer": "ipython3",
   "version": "3.9.13"
  }
 },
 "nbformat": 4,
 "nbformat_minor": 4
}
